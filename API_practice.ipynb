{
 "cells": [
  {
   "cell_type": "code",
   "execution_count": 28,
   "id": "195e80db",
   "metadata": {},
   "outputs": [],
   "source": [
    "from citipy import citipy"
   ]
  },
  {
   "cell_type": "code",
   "execution_count": 29,
   "id": "af6cd5d0",
   "metadata": {},
   "outputs": [],
   "source": [
    "# Create a practice set of random latitude and longitude combinations.\n",
    "x = [25.12903645, 25.92017388, 26.62509167, -59.98969384, 37.30571269]\n",
    "y = [-67.59741259, 11.09532135, 74.84233102, -76.89176677, -61.13376282]"
   ]
  },
  {
   "cell_type": "code",
   "execution_count": 30,
   "id": "6a958cce",
   "metadata": {},
   "outputs": [
    {
     "data": {
      "text/plain": [
       "<zip at 0x150b7469488>"
      ]
     },
     "execution_count": 30,
     "metadata": {},
     "output_type": "execute_result"
    }
   ],
   "source": [
    "coordinates = zip(x, y)\n",
    "coordinates"
   ]
  },
  {
   "cell_type": "code",
   "execution_count": 31,
   "id": "27357191",
   "metadata": {},
   "outputs": [
    {
     "name": "stdout",
     "output_type": "stream",
     "text": [
      "cockburn town tc\n",
      "gat ly\n",
      "parvatsar in\n",
      "punta arenas cl\n",
      "saint george bm\n"
     ]
    }
   ],
   "source": [
    "# We store the coordinate pairs as a [0] and [1] indexes. thats why w can call them as they are./\n",
    "\n",
    "for coordinate in coordinates:\n",
    "    print(citipy.nearest_city(coordinate[0], coordinate[1]).city_name,citipy.nearest_city(coordinate[0],coordinate[1]).country_code)"
   ]
  },
  {
   "cell_type": "code",
   "execution_count": 33,
   "id": "e4e9c5d3",
   "metadata": {},
   "outputs": [],
   "source": [
    "#Import the requests library\n",
    "import requests\n",
    "\n",
    "#import the API key from config file we saves previously\n",
    "\n",
    "from config import weather_api_key"
   ]
  },
  {
   "cell_type": "code",
   "execution_count": 85,
   "id": "f69a6e22",
   "metadata": {},
   "outputs": [
    {
     "name": "stdout",
     "output_type": "stream",
     "text": [
      "http://api.openweathermap.org/data/2.5/weather?units=Imperial&APPID=
     ]
    }
   ],
   "source": [
    "# Starting URL for Weather Map API Call.\n",
    "url = \"http://api.openweathermap.org/data/2.5/weather?units=Imperial&APPID=\" + weather_api_key\n",
    "print(url)"
   ]
  },
  {
   "cell_type": "code",
   "execution_count": 38,
   "id": "e77c5d2c",
   "metadata": {},
   "outputs": [
    {
     "name": "stdout",
     "output_type": "stream",
     "text": [
      "http://api.openweathermap.org/data/2.5/weather?units=Imperial&APPID=
     ]
    }
   ],
   "source": [
    "#Create an endpoint URL for a city\n",
    "\n",
    "city_url = url + \"&q=\" +\"Boston\"\n",
    "print(city_url)"
   ]
  },
  {
   "cell_type": "code",
   "execution_count": 43,
   "id": "7757cfe5",
   "metadata": {},
   "outputs": [
    {
     "data": {
      "text/plain": [
       "200"
      ]
     },
     "execution_count": 43,
     "metadata": {},
     "output_type": "execute_result"
    }
   ],
   "source": [
    "# Make a \"Get\" request for the city weather.\n",
    "\n",
    "city_weather = requests.get(city_url)\n",
    "city_weather.status_code\n",
    "\n",
    "#NOTE: is the city is not recognizes we would get 404 response"
   ]
  },
  {
   "cell_type": "code",
   "execution_count": 49,
   "id": "fad9a4d3",
   "metadata": {},
   "outputs": [
    {
     "data": {
      "text/plain": [
       "<Response [200]>"
      ]
     },
     "execution_count": 49,
     "metadata": {},
     "output_type": "execute_result"
    }
   ],
   "source": [
    "city_url = url + \"&q=\" + \"Bosto\"\n",
    "city_weather = requests.get(city_url)\n",
    "city_weather"
   ]
  },
  {
   "cell_type": "code",
   "execution_count": 50,
   "id": "8049cb58",
   "metadata": {},
   "outputs": [
    {
     "data": {
      "text/plain": [
       "<Response [200]>"
      ]
     },
     "execution_count": 50,
     "metadata": {},
     "output_type": "execute_result"
    }
   ],
   "source": [
    "city_url = url + \"&q=\" +\"Boston\"\n",
    "city_weather = requests.get(city_url)\n",
    "city_weather\n",
    "\n",
    "\n",
    "#SO NOW WE received a valied response as  200, now we need to decide the data format.m TEXT  -XML - HTML\n"
   ]
  },
  {
   "cell_type": "code",
   "execution_count": 51,
   "id": "5e7ab2fc",
   "metadata": {},
   "outputs": [
    {
     "data": {
      "text/plain": [
       "'{\"coord\":{\"lon\":-71.0598,\"lat\":42.3584},\"weather\":[{\"id\":803,\"main\":\"Clouds\",\"description\":\"broken clouds\",\"icon\":\"04d\"}],\"base\":\"stations\",\"main\":{\"temp\":57.15,\"feels_like\":56.79,\"temp_min\":49.95,\"temp_max\":62.37,\"pressure\":1000,\"humidity\":90},\"visibility\":10000,\"wind\":{\"speed\":11.5,\"deg\":210},\"clouds\":{\"all\":75},\"dt\":1649432502,\"sys\":{\"type\":2,\"id\":2013408,\"country\":\"US\",\"sunrise\":1649412877,\"sunset\":1649459826},\"timezone\":-14400,\"id\":4930956,\"name\":\"Boston\",\"cod\":200}'"
      ]
     },
     "execution_count": 51,
     "metadata": {},
     "output_type": "execute_result"
    }
   ],
   "source": [
    "#1. TEXT format\n",
    "city_weather.text"
   ]
  },
  {
   "cell_type": "code",
   "execution_count": 53,
   "id": "78e8b4b1",
   "metadata": {},
   "outputs": [
    {
     "data": {
      "text/plain": [
       "{'coord': {'lon': -71.0598, 'lat': 42.3584},\n",
       " 'weather': [{'id': 803,\n",
       "   'main': 'Clouds',\n",
       "   'description': 'broken clouds',\n",
       "   'icon': '04d'}],\n",
       " 'base': 'stations',\n",
       " 'main': {'temp': 57.15,\n",
       "  'feels_like': 56.79,\n",
       "  'temp_min': 49.95,\n",
       "  'temp_max': 62.37,\n",
       "  'pressure': 1000,\n",
       "  'humidity': 90},\n",
       " 'visibility': 10000,\n",
       " 'wind': {'speed': 11.5, 'deg': 210},\n",
       " 'clouds': {'all': 75},\n",
       " 'dt': 1649432502,\n",
       " 'sys': {'type': 2,\n",
       "  'id': 2013408,\n",
       "  'country': 'US',\n",
       "  'sunrise': 1649412877,\n",
       "  'sunset': 1649459826},\n",
       " 'timezone': -14400,\n",
       " 'id': 4930956,\n",
       " 'name': 'Boston',\n",
       " 'cod': 200}"
      ]
     },
     "execution_count": 53,
     "metadata": {},
     "output_type": "execute_result"
    }
   ],
   "source": [
    "#2. JASON FORMAT\n",
    "city_weather.json()\n"
   ]
  },
  {
   "cell_type": "markdown",
   "id": "55016863",
   "metadata": {},
   "source": [
    "## HOW TO HANDLE REQUESTS ERRORS"
   ]
  },
  {
   "cell_type": "code",
   "execution_count": 57,
   "id": "f8e3cc52",
   "metadata": {},
   "outputs": [
    {
     "name": "stdout",
     "output_type": "stream",
     "text": [
      "City Weather Found\n"
     ]
    }
   ],
   "source": [
    "# Create and endpoint URL for the city\n",
    "\n",
    "city_url = url + \"&q=\" +\"Boston\"\n",
    "city_weather = requests.get(city_url)\n",
    "\n",
    "if city_weather.status_code == 200:\n",
    "    print(f\"City Weather Found\")\n",
    "else:\n",
    "    print(f\"City Weather not found\")\n"
   ]
  },
  {
   "cell_type": "code",
   "execution_count": 60,
   "id": "becdb0c1",
   "metadata": {},
   "outputs": [
    {
     "name": "stdout",
     "output_type": "stream",
     "text": [
      "City Weather Not  Found\n",
      "http://api.openweathermap.org/data/2.5/weather?units=Imperial&APPID=
     ]
    }
   ],
   "source": [
    "city_url = url + \"%q=\" + \"Bostn\"\n",
    "city_weather = requests.get(city_url)\n",
    "\n",
    "if city_weather.status_code == 200:\n",
    "    print(\"City Weather found\")\n",
    "else:\n",
    "    print(f\"City Weather Not  Found\")\n",
    "    \n",
    "print(city_url)\n"
   ]
  },
  {
   "cell_type": "markdown",
   "id": "211d50b7",
   "metadata": {},
   "source": [
    "# 6.2.5 PARSE RESPONSE FROM API"
   ]
  },
  {
   "cell_type": "code",
   "execution_count": 62,
   "id": "b24ea17f",
   "metadata": {},
   "outputs": [
    {
     "data": {
      "text/plain": [
       "{'coord': {'lon': -71.0598, 'lat': 42.3584},\n",
       " 'weather': [{'id': 802,\n",
       "   'main': 'Clouds',\n",
       "   'description': 'scattered clouds',\n",
       "   'icon': '03d'}],\n",
       " 'base': 'stations',\n",
       " 'main': {'temp': 57.36,\n",
       "  'feels_like': 56.79,\n",
       "  'temp_min': 51.22,\n",
       "  'temp_max': 63.59,\n",
       "  'pressure': 1001,\n",
       "  'humidity': 85},\n",
       " 'visibility': 10000,\n",
       " 'wind': {'speed': 13, 'deg': 290, 'gust': 23},\n",
       " 'clouds': {'all': 40},\n",
       " 'dt': 1649434353,\n",
       " 'sys': {'type': 2,\n",
       "  'id': 2013408,\n",
       "  'country': 'US',\n",
       "  'sunrise': 1649412877,\n",
       "  'sunset': 1649459826},\n",
       " 'timezone': -14400,\n",
       " 'id': 4930956,\n",
       " 'name': 'Boston',\n",
       " 'cod': 200}"
      ]
     },
     "execution_count": 62,
     "metadata": {},
     "output_type": "execute_result"
    }
   ],
   "source": [
    "city_url = url + \"&q=\" + \"Boston\"\n",
    "city_weather = requests.get(city_url)\n",
    "city_weather.json()"
   ]
  },
  {
   "cell_type": "code",
   "execution_count": 64,
   "id": "136174ed",
   "metadata": {},
   "outputs": [],
   "source": [
    "#GET THE JSON DATA\n",
    "boston_data = city_weather.json()"
   ]
  },
  {
   "cell_type": "code",
   "execution_count": 70,
   "id": "20f7a3b4",
   "metadata": {},
   "outputs": [
    {
     "data": {
      "text/plain": [
       "'US'"
      ]
     },
     "execution_count": 70,
     "metadata": {},
     "output_type": "execute_result"
    }
   ],
   "source": [
    "boston_data[\"sys\"][\"country\"]"
   ]
  },
  {
   "cell_type": "code",
   "execution_count": 73,
   "id": "f6292717",
   "metadata": {},
   "outputs": [
    {
     "data": {
      "text/plain": [
       "1649434353"
      ]
     },
     "execution_count": 73,
     "metadata": {},
     "output_type": "execute_result"
    }
   ],
   "source": [
    "boston_data[\"dt\"]"
   ]
  },
  {
   "cell_type": "code",
   "execution_count": 74,
   "id": "11f423f3",
   "metadata": {},
   "outputs": [
    {
     "data": {
      "text/plain": [
       "42.3584"
      ]
     },
     "execution_count": 74,
     "metadata": {},
     "output_type": "execute_result"
    }
   ],
   "source": [
    "boston_data[\"coord\"][\"lat\"]"
   ]
  },
  {
   "cell_type": "code",
   "execution_count": 75,
   "id": "4746250b",
   "metadata": {},
   "outputs": [
    {
     "data": {
      "text/plain": [
       "63.59"
      ]
     },
     "execution_count": 75,
     "metadata": {},
     "output_type": "execute_result"
    }
   ],
   "source": [
    "boston_data[\"main\"][\"temp_max\"]"
   ]
  },
  {
   "cell_type": "code",
   "execution_count": 78,
   "id": "71339fda",
   "metadata": {},
   "outputs": [
    {
     "name": "stdout",
     "output_type": "stream",
     "text": [
      "42.3584 -71.0598 63.59 85 {'all': 40} {'speed': 13, 'deg': 290, 'gust': 23}\n"
     ]
    }
   ],
   "source": [
    "lat = boston_data[\"coord\"][\"lat\"]\n",
    "lng = boston_data[\"coord\"][\"lon\"]\n",
    "max_temp = boston_data[\"main\"][\"temp_max\"]\n",
    "humidity = boston_data[\"main\"][\"humidity\"]\n",
    "clouds = boston_data[\"clouds\"]\n",
    "wind = boston_data[\"wind\"]\n",
    "print(lat,lng,max_temp,humidity,clouds,wind)"
   ]
  },
  {
   "cell_type": "code",
   "execution_count": 79,
   "id": "37bdba75",
   "metadata": {},
   "outputs": [
    {
     "data": {
      "text/plain": [
       "1649434353"
      ]
     },
     "execution_count": 79,
     "metadata": {},
     "output_type": "execute_result"
    }
   ],
   "source": [
    "#HOW TOO CONVERT THE TIMESTAMP\n",
    "boston_data[\"dt\"]\n",
    "#Called Coordinate Universal TIme or Greenwich Mean Time ISO =  YYYY MM DD HH MM SS"
   ]
  },
  {
   "cell_type": "code",
   "execution_count": 83,
   "id": "95599896",
   "metadata": {},
   "outputs": [
    {
     "data": {
      "text/plain": [
       "'2022-04-08 16:12:33'"
      ]
     },
     "execution_count": 83,
     "metadata": {},
     "output_type": "execute_result"
    }
   ],
   "source": [
    "#Import the datetime module from the datetime library\n",
    "\n",
    "from datetime import datetime\n",
    "#get the date from JSON file\n",
    "\n",
    "date = boston_data[\"dt\"]\n",
    "## Convert the UTC date to a date format with year, month, day, hours, minutes, and seconds.\n",
    "\n",
    "datetime.utcfromtimestamp(date).strftime('%Y-%m-%d %H:%M:%S')"
   ]
  },
  {
   "cell_type": "code",
   "execution_count": 99,
   "id": "03c193b0",
   "metadata": {},
   "outputs": [],
   "source": [
    "#Import the time module.\n",
    "import time\n"
   ]
  },
  {
   "cell_type": "code",
   "execution_count": 102,
   "id": "1842afc7",
   "metadata": {},
   "outputs": [
    {
     "data": {
      "text/plain": [
       "'04/08/22'"
      ]
     },
     "execution_count": 102,
     "metadata": {},
     "output_type": "execute_result"
    }
   ],
   "source": [
    "#Get today's date in seconds\n",
    "today = time.strftime(\"%x\")\n",
    "today     # This is in seconds"
   ]
  },
  {
   "cell_type": "code",
   "execution_count": null,
   "id": "eb7cf990",
   "metadata": {},
   "outputs": [],
   "source": []
  }
 ],
 "metadata": {
  "kernelspec": {
   "display_name": "PythonData",
   "language": "python",
   "name": "pythondata"
  },
  "language_info": {
   "codemirror_mode": {
    "name": "ipython",
    "version": 3
   },
   "file_extension": ".py",
   "mimetype": "text/x-python",
   "name": "python",
   "nbconvert_exporter": "python",
   "pygments_lexer": "ipython3",
   "version": "3.7.11"
  }
 },
 "nbformat": 4,
 "nbformat_minor": 5
}
